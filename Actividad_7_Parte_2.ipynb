{
  "nbformat": 4,
  "nbformat_minor": 0,
  "metadata": {
    "kernelspec": {
      "name": "python3",
      "display_name": "Python 3.9.1 64-bit"
    },
    "language_info": {
      "codemirror_mode": {
        "name": "ipython",
        "version": 3
      },
      "file_extension": ".py",
      "mimetype": "text/x-python",
      "name": "python",
      "nbconvert_exporter": "python",
      "pygments_lexer": "ipython3",
      "version": "3.9.1"
    },
    "colab": {
      "name": "Travel_Salesman_Problem.ipynb",
      "provenance": [],
      "collapsed_sections": []
    },
    "interpreter": {
      "hash": "5f6cb796ee7feee6ba205af4adf587c61c314a1bd4a3ea44c24f2b707e4ce353"
    }
  },
  "cells": [
    {
      "cell_type": "markdown",
      "metadata": {
        "id": "yntYQX5Dnn19"
      },
      "source": [
        "# Universidad Nacional de Colombia sede Medellín\n",
        "# Optimización heurística\n",
        "### Davinson Montoya Ramirez 71277483\n",
        "### Jessica María Rivera Jiménez 1017205993\n",
        "### Luis Felipe Arévalo Cortés 1018469500\n",
        "\n"
      ]
    },
    {
      "cell_type": "markdown",
      "metadata": {
        "id": "pwzlwvCunWhV"
      },
      "source": [
        "**2. Problema del vendedor viajero**"
      ]
    },
    {
      "cell_type": "markdown",
      "metadata": {
        "id": "flldoIEfoK1k"
      },
      "source": [
        "En este problema se utilizarán modelos metaheurísticos para resolver el problema del vendedor viajero. Se tienen diferentes ciudades en colombia, en las cuales el objetivo es visitar cada una de estas con el menor costo posible. "
      ]
    },
    {
      "cell_type": "markdown",
      "metadata": {
        "id": "qtDdxBUxpcbk"
      },
      "source": [
        "Se utiliza el modelo genético docplex para calcular las distancias entre ciudades (arcos)."
      ]
    },
    {
      "cell_type": "code",
      "metadata": {
        "colab": {
          "base_uri": "https://localhost:8080/"
        },
        "id": "I37apiwTZvDu",
        "outputId": "22e76e1c-0d18-450c-b571-336fd4167649"
      },
      "source": [
        "pip install docplex"
      ],
      "execution_count": null,
      "outputs": [
        {
          "output_type": "stream",
          "text": [
            "Collecting docplex\n",
            "  Downloading docplex-2.21.207.tar.gz (635 kB)\n",
            "\u001b[?25l\r\u001b[K     |▌                               | 10 kB 25.8 MB/s eta 0:00:01\r\u001b[K     |█                               | 20 kB 28.3 MB/s eta 0:00:01\r\u001b[K     |█▌                              | 30 kB 12.5 MB/s eta 0:00:01\r\u001b[K     |██                              | 40 kB 9.3 MB/s eta 0:00:01\r\u001b[K     |██▋                             | 51 kB 4.3 MB/s eta 0:00:01\r\u001b[K     |███                             | 61 kB 4.7 MB/s eta 0:00:01\r\u001b[K     |███▋                            | 71 kB 4.8 MB/s eta 0:00:01\r\u001b[K     |████▏                           | 81 kB 4.8 MB/s eta 0:00:01\r\u001b[K     |████▋                           | 92 kB 5.1 MB/s eta 0:00:01\r\u001b[K     |█████▏                          | 102 kB 5.1 MB/s eta 0:00:01\r\u001b[K     |█████▊                          | 112 kB 5.1 MB/s eta 0:00:01\r\u001b[K     |██████▏                         | 122 kB 5.1 MB/s eta 0:00:01\r\u001b[K     |██████▊                         | 133 kB 5.1 MB/s eta 0:00:01\r\u001b[K     |███████▏                        | 143 kB 5.1 MB/s eta 0:00:01\r\u001b[K     |███████▊                        | 153 kB 5.1 MB/s eta 0:00:01\r\u001b[K     |████████▎                       | 163 kB 5.1 MB/s eta 0:00:01\r\u001b[K     |████████▊                       | 174 kB 5.1 MB/s eta 0:00:01\r\u001b[K     |█████████▎                      | 184 kB 5.1 MB/s eta 0:00:01\r\u001b[K     |█████████▉                      | 194 kB 5.1 MB/s eta 0:00:01\r\u001b[K     |██████████▎                     | 204 kB 5.1 MB/s eta 0:00:01\r\u001b[K     |██████████▉                     | 215 kB 5.1 MB/s eta 0:00:01\r\u001b[K     |███████████▍                    | 225 kB 5.1 MB/s eta 0:00:01\r\u001b[K     |███████████▉                    | 235 kB 5.1 MB/s eta 0:00:01\r\u001b[K     |████████████▍                   | 245 kB 5.1 MB/s eta 0:00:01\r\u001b[K     |█████████████                   | 256 kB 5.1 MB/s eta 0:00:01\r\u001b[K     |█████████████▍                  | 266 kB 5.1 MB/s eta 0:00:01\r\u001b[K     |██████████████                  | 276 kB 5.1 MB/s eta 0:00:01\r\u001b[K     |██████████████▍                 | 286 kB 5.1 MB/s eta 0:00:01\r\u001b[K     |███████████████                 | 296 kB 5.1 MB/s eta 0:00:01\r\u001b[K     |███████████████▌                | 307 kB 5.1 MB/s eta 0:00:01\r\u001b[K     |████████████████                | 317 kB 5.1 MB/s eta 0:00:01\r\u001b[K     |████████████████▌               | 327 kB 5.1 MB/s eta 0:00:01\r\u001b[K     |█████████████████               | 337 kB 5.1 MB/s eta 0:00:01\r\u001b[K     |█████████████████▌              | 348 kB 5.1 MB/s eta 0:00:01\r\u001b[K     |██████████████████              | 358 kB 5.1 MB/s eta 0:00:01\r\u001b[K     |██████████████████▋             | 368 kB 5.1 MB/s eta 0:00:01\r\u001b[K     |███████████████████             | 378 kB 5.1 MB/s eta 0:00:01\r\u001b[K     |███████████████████▋            | 389 kB 5.1 MB/s eta 0:00:01\r\u001b[K     |████████████████████▏           | 399 kB 5.1 MB/s eta 0:00:01\r\u001b[K     |████████████████████▋           | 409 kB 5.1 MB/s eta 0:00:01\r\u001b[K     |█████████████████████▏          | 419 kB 5.1 MB/s eta 0:00:01\r\u001b[K     |█████████████████████▋          | 430 kB 5.1 MB/s eta 0:00:01\r\u001b[K     |██████████████████████▏         | 440 kB 5.1 MB/s eta 0:00:01\r\u001b[K     |██████████████████████▊         | 450 kB 5.1 MB/s eta 0:00:01\r\u001b[K     |███████████████████████▏        | 460 kB 5.1 MB/s eta 0:00:01\r\u001b[K     |███████████████████████▊        | 471 kB 5.1 MB/s eta 0:00:01\r\u001b[K     |████████████████████████▎       | 481 kB 5.1 MB/s eta 0:00:01\r\u001b[K     |████████████████████████▊       | 491 kB 5.1 MB/s eta 0:00:01\r\u001b[K     |█████████████████████████▎      | 501 kB 5.1 MB/s eta 0:00:01\r\u001b[K     |█████████████████████████▉      | 512 kB 5.1 MB/s eta 0:00:01\r\u001b[K     |██████████████████████████▎     | 522 kB 5.1 MB/s eta 0:00:01\r\u001b[K     |██████████████████████████▉     | 532 kB 5.1 MB/s eta 0:00:01\r\u001b[K     |███████████████████████████▎    | 542 kB 5.1 MB/s eta 0:00:01\r\u001b[K     |███████████████████████████▉    | 552 kB 5.1 MB/s eta 0:00:01\r\u001b[K     |████████████████████████████▍   | 563 kB 5.1 MB/s eta 0:00:01\r\u001b[K     |████████████████████████████▉   | 573 kB 5.1 MB/s eta 0:00:01\r\u001b[K     |█████████████████████████████▍  | 583 kB 5.1 MB/s eta 0:00:01\r\u001b[K     |██████████████████████████████  | 593 kB 5.1 MB/s eta 0:00:01\r\u001b[K     |██████████████████████████████▍ | 604 kB 5.1 MB/s eta 0:00:01\r\u001b[K     |███████████████████████████████ | 614 kB 5.1 MB/s eta 0:00:01\r\u001b[K     |███████████████████████████████▌| 624 kB 5.1 MB/s eta 0:00:01\r\u001b[K     |████████████████████████████████| 634 kB 5.1 MB/s eta 0:00:01\r\u001b[K     |████████████████████████████████| 635 kB 5.1 MB/s \n",
            "\u001b[?25hRequirement already satisfied: requests in /usr/local/lib/python3.7/dist-packages (from docplex) (2.23.0)\n",
            "Requirement already satisfied: six in /usr/local/lib/python3.7/dist-packages (from docplex) (1.15.0)\n",
            "Requirement already satisfied: urllib3!=1.25.0,!=1.25.1,<1.26,>=1.21.1 in /usr/local/lib/python3.7/dist-packages (from requests->docplex) (1.24.3)\n",
            "Requirement already satisfied: idna<3,>=2.5 in /usr/local/lib/python3.7/dist-packages (from requests->docplex) (2.10)\n",
            "Requirement already satisfied: certifi>=2017.4.17 in /usr/local/lib/python3.7/dist-packages (from requests->docplex) (2021.5.30)\n",
            "Requirement already satisfied: chardet<4,>=3.0.2 in /usr/local/lib/python3.7/dist-packages (from requests->docplex) (3.0.4)\n",
            "Building wheels for collected packages: docplex\n",
            "  Building wheel for docplex (setup.py) ... \u001b[?25l\u001b[?25hdone\n",
            "  Created wheel for docplex: filename=docplex-2.21.207-py3-none-any.whl size=700543 sha256=277e0ac81444d4b685f28fa44caf5cdbd451a124baf1e0a3ba35d979eabaa5b1\n",
            "  Stored in directory: /root/.cache/pip/wheels/d8/4e/62/e43a45757e70549e6aa4712ccfcf67440a203c278ecb68de49\n",
            "Successfully built docplex\n",
            "Installing collected packages: docplex\n",
            "Successfully installed docplex-2.21.207\n"
          ],
          "name": "stdout"
        }
      ]
    },
    {
      "cell_type": "code",
      "metadata": {
        "id": "keHtyYqQYl9P"
      },
      "source": [
        "#Comenzaremos importanto las librerias necesarias.\n",
        "import numpy as np\n",
        "import matplotlib.pyplot as plt\n",
        "from docplex.mp.model import Model\n",
        "import docplex.mp.solution as Solucion"
      ],
      "execution_count": null,
      "outputs": []
    },
    {
      "cell_type": "markdown",
      "metadata": {
        "id": "W3IpGf3FYl9P"
      },
      "source": [
        "### <font color=blue> Creanción de los datos del Modelo </font>"
      ]
    },
    {
      "cell_type": "markdown",
      "metadata": {
        "id": "ZY0oGflNp0cJ"
      },
      "source": [
        "En el siguiente paso se definen los arcos: (Distancia entre un punto a los demás). El problema es lineal."
      ]
    },
    {
      "cell_type": "code",
      "metadata": {
        "id": "AWlhffVCYl9P"
      },
      "source": [
        "#Estamos trabajando con datos ficticios, por lo cual se creará un set de ciudades y arcos.\n",
        "# Los ciclos for están dentro de [ ], para crear listas con esa cantidad de datos.\n",
        "n=15\n",
        "ciudades=[i for i in range(n)] # Creamos ciudades de la 0 a la 9  \n",
        "arcos =[(i,j) for i in ciudades for j in ciudades if i!=j]"
      ],
      "execution_count": null,
      "outputs": []
    },
    {
      "cell_type": "markdown",
      "metadata": {
        "id": "YwuuOZW6qD1R"
      },
      "source": [
        "Se observa la información que comprenden los arcos."
      ]
    },
    {
      "cell_type": "code",
      "metadata": {
        "colab": {
          "base_uri": "https://localhost:8080/"
        },
        "id": "MVbmxtGv0SoA",
        "outputId": "5b4b1d6e-3fac-45a1-e5e5-31f58766554a"
      },
      "source": [
        "arcos"
      ],
      "execution_count": null,
      "outputs": [
        {
          "output_type": "execute_result",
          "data": {
            "text/plain": [
              "[(0, 1),\n",
              " (0, 2),\n",
              " (0, 3),\n",
              " (0, 4),\n",
              " (0, 5),\n",
              " (0, 6),\n",
              " (0, 7),\n",
              " (0, 8),\n",
              " (0, 9),\n",
              " (0, 10),\n",
              " (0, 11),\n",
              " (0, 12),\n",
              " (0, 13),\n",
              " (0, 14),\n",
              " (1, 0),\n",
              " (1, 2),\n",
              " (1, 3),\n",
              " (1, 4),\n",
              " (1, 5),\n",
              " (1, 6),\n",
              " (1, 7),\n",
              " (1, 8),\n",
              " (1, 9),\n",
              " (1, 10),\n",
              " (1, 11),\n",
              " (1, 12),\n",
              " (1, 13),\n",
              " (1, 14),\n",
              " (2, 0),\n",
              " (2, 1),\n",
              " (2, 3),\n",
              " (2, 4),\n",
              " (2, 5),\n",
              " (2, 6),\n",
              " (2, 7),\n",
              " (2, 8),\n",
              " (2, 9),\n",
              " (2, 10),\n",
              " (2, 11),\n",
              " (2, 12),\n",
              " (2, 13),\n",
              " (2, 14),\n",
              " (3, 0),\n",
              " (3, 1),\n",
              " (3, 2),\n",
              " (3, 4),\n",
              " (3, 5),\n",
              " (3, 6),\n",
              " (3, 7),\n",
              " (3, 8),\n",
              " (3, 9),\n",
              " (3, 10),\n",
              " (3, 11),\n",
              " (3, 12),\n",
              " (3, 13),\n",
              " (3, 14),\n",
              " (4, 0),\n",
              " (4, 1),\n",
              " (4, 2),\n",
              " (4, 3),\n",
              " (4, 5),\n",
              " (4, 6),\n",
              " (4, 7),\n",
              " (4, 8),\n",
              " (4, 9),\n",
              " (4, 10),\n",
              " (4, 11),\n",
              " (4, 12),\n",
              " (4, 13),\n",
              " (4, 14),\n",
              " (5, 0),\n",
              " (5, 1),\n",
              " (5, 2),\n",
              " (5, 3),\n",
              " (5, 4),\n",
              " (5, 6),\n",
              " (5, 7),\n",
              " (5, 8),\n",
              " (5, 9),\n",
              " (5, 10),\n",
              " (5, 11),\n",
              " (5, 12),\n",
              " (5, 13),\n",
              " (5, 14),\n",
              " (6, 0),\n",
              " (6, 1),\n",
              " (6, 2),\n",
              " (6, 3),\n",
              " (6, 4),\n",
              " (6, 5),\n",
              " (6, 7),\n",
              " (6, 8),\n",
              " (6, 9),\n",
              " (6, 10),\n",
              " (6, 11),\n",
              " (6, 12),\n",
              " (6, 13),\n",
              " (6, 14),\n",
              " (7, 0),\n",
              " (7, 1),\n",
              " (7, 2),\n",
              " (7, 3),\n",
              " (7, 4),\n",
              " (7, 5),\n",
              " (7, 6),\n",
              " (7, 8),\n",
              " (7, 9),\n",
              " (7, 10),\n",
              " (7, 11),\n",
              " (7, 12),\n",
              " (7, 13),\n",
              " (7, 14),\n",
              " (8, 0),\n",
              " (8, 1),\n",
              " (8, 2),\n",
              " (8, 3),\n",
              " (8, 4),\n",
              " (8, 5),\n",
              " (8, 6),\n",
              " (8, 7),\n",
              " (8, 9),\n",
              " (8, 10),\n",
              " (8, 11),\n",
              " (8, 12),\n",
              " (8, 13),\n",
              " (8, 14),\n",
              " (9, 0),\n",
              " (9, 1),\n",
              " (9, 2),\n",
              " (9, 3),\n",
              " (9, 4),\n",
              " (9, 5),\n",
              " (9, 6),\n",
              " (9, 7),\n",
              " (9, 8),\n",
              " (9, 10),\n",
              " (9, 11),\n",
              " (9, 12),\n",
              " (9, 13),\n",
              " (9, 14),\n",
              " (10, 0),\n",
              " (10, 1),\n",
              " (10, 2),\n",
              " (10, 3),\n",
              " (10, 4),\n",
              " (10, 5),\n",
              " (10, 6),\n",
              " (10, 7),\n",
              " (10, 8),\n",
              " (10, 9),\n",
              " (10, 11),\n",
              " (10, 12),\n",
              " (10, 13),\n",
              " (10, 14),\n",
              " (11, 0),\n",
              " (11, 1),\n",
              " (11, 2),\n",
              " (11, 3),\n",
              " (11, 4),\n",
              " (11, 5),\n",
              " (11, 6),\n",
              " (11, 7),\n",
              " (11, 8),\n",
              " (11, 9),\n",
              " (11, 10),\n",
              " (11, 12),\n",
              " (11, 13),\n",
              " (11, 14),\n",
              " (12, 0),\n",
              " (12, 1),\n",
              " (12, 2),\n",
              " (12, 3),\n",
              " (12, 4),\n",
              " (12, 5),\n",
              " (12, 6),\n",
              " (12, 7),\n",
              " (12, 8),\n",
              " (12, 9),\n",
              " (12, 10),\n",
              " (12, 11),\n",
              " (12, 13),\n",
              " (12, 14),\n",
              " (13, 0),\n",
              " (13, 1),\n",
              " (13, 2),\n",
              " (13, 3),\n",
              " (13, 4),\n",
              " (13, 5),\n",
              " (13, 6),\n",
              " (13, 7),\n",
              " (13, 8),\n",
              " (13, 9),\n",
              " (13, 10),\n",
              " (13, 11),\n",
              " (13, 12),\n",
              " (13, 14),\n",
              " (14, 0),\n",
              " (14, 1),\n",
              " (14, 2),\n",
              " (14, 3),\n",
              " (14, 4),\n",
              " (14, 5),\n",
              " (14, 6),\n",
              " (14, 7),\n",
              " (14, 8),\n",
              " (14, 9),\n",
              " (14, 10),\n",
              " (14, 11),\n",
              " (14, 12),\n",
              " (14, 13)]"
            ]
          },
          "metadata": {
            "tags": []
          },
          "execution_count": 188
        }
      ]
    },
    {
      "cell_type": "markdown",
      "metadata": {
        "id": "2TF-_2n3qJIk"
      },
      "source": [
        "Las coordenadas de las ciudades se sacaron a partir de la API de google maps."
      ]
    },
    {
      "cell_type": "code",
      "metadata": {
        "id": "dmxEC87_Yl9Q"
      },
      "source": [
        "coord_x=[3.5725314,1.5262483,4.0538969,4.6482837,4.5697079,4.3983317,5.4980145,9.9702378,8.6656766,10.914889,10.4268577,8.6044567,6.2441988,7.1192047,8.0287423]\n",
        "coord_y=[-76.3383559,-79.0436078,-76.1843476,-74.2478938,-75.9314002,-75.9198762,-75.8344085,-74.0464178,-76.0029754,-74.8369296,-75.5920573,-77.4442709,-75.6691578,-73.166248,-72.6029817]\n",
        "name=['Palmira','Pasto','Tuluá','Bogota','Pereira','Armenia','Caldas','Valledupar','Montería','Soledad','Cartagena','Barranquilla','Medellín','Bucaramanga','Cúcuta']"
      ],
      "execution_count": null,
      "outputs": []
    },
    {
      "cell_type": "markdown",
      "metadata": {
        "id": "O6tdSoyjqZ5b"
      },
      "source": [
        "Se realiza la gráfica de las coordenadas de cada ciudad"
      ]
    },
    {
      "cell_type": "code",
      "metadata": {
        "colab": {
          "base_uri": "https://localhost:8080/",
          "height": 1000
        },
        "id": "qeugwuudYl9Q",
        "outputId": "dfef64f8-55d0-4858-a3e5-066f06c47171"
      },
      "source": [
        "x=coord_x\n",
        "y=coord_y\n",
        "\n",
        "plt.figure(figsize=(25,25))\n",
        "plt.scatter(x,y,color='blue')\n",
        "s=[]\n",
        "for n in range(len(coord_x)):\n",
        "    s_temp=[]\n",
        "    s_temp.append(\"%.1f\" %coord_x[n])\n",
        "    s_temp.append(\"%.1f\" %coord_y[n])\n",
        "    s.append(s_temp)\n",
        "\n",
        "plt.xlabel(\"Distancia X\")\n",
        "plt.ylabel(\"Distancia Y\")\n",
        "plt.title(\"Ubicación de las ciudades\")\n",
        "\n",
        "for n in range(len(coord_x)):\n",
        "    plt.annotate(str(s[n]), xy=(coord_x[n],coord_y[n] ), xytext=(coord_x[n]-0.02,coord_y[n]-0.02), \n",
        "                 color='purple')\n",
        "    \n",
        "for n in range(len(coord_x)):\n",
        "    plt.annotate(str(name[n]), xy=(coord_x[n],coord_y[n] ), xytext=(coord_x[n]+0.02,coord_y[n]+0.01),\n",
        "                 color='red')\n",
        "\n",
        "plt.show()"
      ],
      "execution_count": null,
      "outputs": [
        {
          "output_type": "display_data",
          "data": {
            "text/plain": [
              "<Figure size 1800x1800 with 1 Axes>"
            ],
            "image/png": "[encoded data removed]"
          },
          "metadata": {
            "tags": [],
            "needs_background": "light"
          }
        }
      ]
    },
    {
      "cell_type": "markdown",
      "metadata": {
        "id": "iv0CrXglqg9I"
      },
      "source": [
        "Se realiza la multiplicación de cada arco por cada coordenada para ingresarlo al modelo."
      ]
    },
    {
      "cell_type": "code",
      "metadata": {
        "id": "HYKhgZB9Yl9R"
      },
      "source": [
        "#Ahora debemos crear un link entre las las ciudades, sus coordenadas y la distancia entre ellas.\n",
        "\n",
        "#Los parentesis de llave significan que es un diccionario { }.De esta manera creamos un link\n",
        "# entre los arcos y la distancia.\n",
        "\n",
        "distancia={(i, j): np.hypot(coord_x[i] - coord_x[j], coord_y[i] - coord_y[j]) for i,j in arcos}"
      ],
      "execution_count": null,
      "outputs": []
    },
    {
      "cell_type": "markdown",
      "metadata": {
        "id": "DbQZp421Yl9R"
      },
      "source": [
        "### <font color=blue> Creando el modelo a resolver </font>"
      ]
    },
    {
      "cell_type": "markdown",
      "metadata": {
        "id": "4Kwg6nOqqoer"
      },
      "source": [
        "Se utiliza el modelo genético llamado TSP para calcular la distancia mínima entre las coordenadas"
      ]
    },
    {
      "cell_type": "code",
      "metadata": {
        "id": "gqOF25Z2Yl9S"
      },
      "source": [
        "# Creando el modelo en Cplex\n",
        "mdl=Model('TSP')"
      ],
      "execution_count": null,
      "outputs": []
    },
    {
      "cell_type": "code",
      "metadata": {
        "id": "vuXR4pBpYl9S"
      },
      "source": [
        "#Declaramos las variables a utilizar\n",
        "#los nombre y forma de llamar las variables es propia de CPLEX.\n",
        "\n",
        "x=mdl.binary_var_dict(arcos,name='x')\n",
        "d=mdl.continuous_var_dict(ciudades,name='d')"
      ],
      "execution_count": null,
      "outputs": []
    },
    {
      "cell_type": "markdown",
      "metadata": {
        "id": "5BX6kXglYl9S"
      },
      "source": [
        "#### <font color=green> Función objetivo del TPS </font>\n",
        "\\begin{equation}\n",
        "Min\\;Z=\\displaystyle\\sum_{\\forall \\;A} x_{ij}c_{ij}\n",
        "\\end{equation}"
      ]
    },
    {
      "cell_type": "markdown",
      "metadata": {
        "id": "Cy9o_V3_q7SN"
      },
      "source": [
        "Definición de la función objetivo del modelo"
      ]
    },
    {
      "cell_type": "code",
      "metadata": {
        "id": "EIUwutu5Yl9S"
      },
      "source": [
        "mdl.minimize(mdl.sum(distancia[i]*x[i] for i in arcos))"
      ],
      "execution_count": null,
      "outputs": []
    },
    {
      "cell_type": "markdown",
      "metadata": {
        "id": "9DjiC_CIYl9T"
      },
      "source": [
        "#### <font color=green> Restricciones del TPS </font>\n",
        "\\begin{equation}\n",
        "\\displaystyle\\sum_{\\forall \\;i \\; \\in \\; Ciudades} x_i=1\n",
        "\\end{equation}\n",
        "\\begin{equation}\n",
        "\\displaystyle\\sum_{\\forall \\;j \\; \\in \\; Ciudades} x_j=1\n",
        "\\end{equation}\n",
        "\\begin{equation}\n",
        "c_i+1\\geq c_j+M(1-x_{ij})\n",
        "\\end{equation}"
      ]
    },
    {
      "cell_type": "markdown",
      "metadata": {
        "id": "5QjMyb0erB0-"
      },
      "source": [
        "Se definen las restricciones para el problema de minimización. Debe sumar todos los puntos i y j"
      ]
    },
    {
      "cell_type": "code",
      "metadata": {
        "id": "tQPMd2jDYl9T"
      },
      "source": [
        "# Primero restricción sumatoria para todo i\n",
        "for c in ciudades:\n",
        "    mdl.add_constraint(mdl.sum(x[(i,j)] for i,j in arcos if i==c)==1, \n",
        "                       ctname='out_%d'%c)"
      ],
      "execution_count": null,
      "outputs": []
    },
    {
      "cell_type": "code",
      "metadata": {
        "id": "dPkBan0zYl9U"
      },
      "source": [
        "# Segundo restricción sumatoria para todo j\n",
        "for c in ciudades:\n",
        "    mdl.add_constraint(mdl.sum(x[(i,j)] for i,j in arcos if j==c)==1, \n",
        "                       ctname='in_%d'%c)"
      ],
      "execution_count": null,
      "outputs": []
    },
    {
      "cell_type": "code",
      "metadata": {
        "id": "HT3apzBRYl9U"
      },
      "source": [
        "#print(mdl.export_to_string())"
      ],
      "execution_count": null,
      "outputs": []
    },
    {
      "cell_type": "code",
      "metadata": {
        "id": "8d5AImqyYl9U"
      },
      "source": [
        "# Por último restricción lógica\n",
        "for i,j in arcos:\n",
        "    if j!=0:\n",
        "        mdl.add_indicator(x[(i,j)],d[i]+1==d[j], \n",
        "                          name='order_(%d,_%d)'%(i, j))"
      ],
      "execution_count": null,
      "outputs": []
    },
    {
      "cell_type": "markdown",
      "metadata": {
        "id": "PuyTR4VqrYC9"
      },
      "source": [
        "Aplicación del modelo genético TSP al problema de minimizar la distancia entre ciudades."
      ]
    },
    {
      "cell_type": "code",
      "metadata": {
        "colab": {
          "base_uri": "https://localhost:8080/"
        },
        "id": "7Gd6E7LWYl9U",
        "outputId": "dfd65ba3-eace-4811-d2cf-866b63b6b06f"
      },
      "source": [
        "mdl.parameters.timelimit=120\n",
        "mdl.parameters.mip.strategy.branch=1\n",
        "mdl.parameters.mip.tolerances.mipgap=0.15\n",
        "\n",
        "solucion = mdl.solve(log_output=True)"
      ],
      "execution_count": null,
      "outputs": [
        {
          "output_type": "stream",
          "text": [
            "Version identifier: 20.1.0.0 | 2020-11-11 | 9bedb6d68\n",
            "CPXPARAM_Read_DataCheck                          1\n",
            "CPXPARAM_MIP_Strategy_Branch                     1\n",
            "CPXPARAM_TimeLimit                               120\n",
            "CPXPARAM_MIP_Tolerances_MIPGap                   0.14999999999999999\n",
            "Tried aggregator 2 times.\n",
            "MIP Presolve modified 91 coefficients.\n",
            "Aggregator did 91 substitutions.\n",
            "Reduced MIP has 135 rows, 330 columns, and 735 nonzeros.\n",
            "Reduced MIP has 210 binaries, 0 generals, 0 SOSs, and 196 indicators.\n",
            "Presolve time = 0.01 sec. (0.64 ticks)\n",
            "Probing time = 0.00 sec. (0.34 ticks)\n",
            "Tried aggregator 1 time.\n",
            "Detecting symmetries...\n",
            "Reduced MIP has 135 rows, 330 columns, and 735 nonzeros.\n",
            "Reduced MIP has 210 binaries, 0 generals, 0 SOSs, and 196 indicators.\n",
            "Presolve time = 0.01 sec. (0.49 ticks)\n",
            "Probing time = 0.01 sec. (0.34 ticks)\n",
            "Clique table members: 121.\n",
            "MIP emphasis: balance optimality and feasibility.\n",
            "MIP search method: dynamic search.\n",
            "Parallel mode: deterministic, using up to 2 threads.\n",
            "Root relaxation solution time = 0.00 sec. (0.24 ticks)\n",
            "\n",
            "        Nodes                                         Cuts/\n",
            "   Node  Left     Objective  IInf  Best Integer    Best Bound    ItCnt     Gap\n",
            "\n",
            "      0     0       21.3191    14                     21.3191       14         \n",
            "      0     0       25.0502    13                     Cuts: 7       29         \n",
            "*     0+    0                           52.3827       25.0502            52.18%\n",
            "Detecting symmetries...\n",
            "      0     2       25.0502    13       52.3827       25.0502       29   52.18%\n",
            "Elapsed time = 0.13 sec. (6.75 ticks, tree = 0.02 MB, solutions = 1)\n",
            "*    25    10      integral     0       26.6945       25.0502       55    6.16%\n",
            "\n",
            "Clique cuts applied:  4\n",
            "Implied bound cuts applied:  3\n",
            "\n",
            "Root node processing (before b&c):\n",
            "  Real time             =    0.13 sec. (6.67 ticks)\n",
            "Parallel b&c, 2 threads:\n",
            "  Real time             =    0.03 sec. (2.01 ticks)\n",
            "  Sync time (average)   =    0.00 sec.\n",
            "  Wait time (average)   =    0.00 sec.\n",
            "                          ------------\n",
            "Total (root+branch&cut) =    0.16 sec. (8.68 ticks)\n"
          ],
          "name": "stdout"
        }
      ]
    },
    {
      "cell_type": "code",
      "metadata": {
        "colab": {
          "base_uri": "https://localhost:8080/"
        },
        "id": "IhEqxs3VYl9W",
        "outputId": "2ca043b3-3565-4662-cfb4-89375c66bf34"
      },
      "source": [
        "mdl.get_solve_status()"
      ],
      "execution_count": null,
      "outputs": [
        {
          "output_type": "execute_result",
          "data": {
            "text/plain": [
              "<JobSolveStatus.OPTIMAL_SOLUTION: 2>"
            ]
          },
          "metadata": {
            "tags": []
          },
          "execution_count": 185
        }
      ]
    },
    {
      "cell_type": "code",
      "metadata": {
        "colab": {
          "base_uri": "https://localhost:8080/"
        },
        "id": "lrL-bHVSYl9W",
        "outputId": "341957d6-e2e8-4775-84f1-8c5dd99b1e45"
      },
      "source": [
        "solucion.display()"
      ],
      "execution_count": null,
      "outputs": [
        {
          "output_type": "stream",
          "text": [
            "solution for: TSP\n",
            "objective: 26.695\n",
            "x_0_1 = 1\n",
            "x_1_2 = 1\n",
            "x_2_4 = 1\n",
            "x_3_0 = 1\n",
            "x_4_5 = 1\n",
            "x_5_6 = 1\n",
            "x_6_12 = 1\n",
            "x_7_14 = 1\n",
            "x_8_10 = 1\n",
            "x_9_7 = 1\n",
            "x_10_9 = 1\n",
            "x_11_8 = 1\n",
            "x_12_11 = 1\n",
            "x_13_3 = 1\n",
            "x_14_13 = 1\n",
            "d_1 = 1.000\n",
            "d_2 = 2.000\n",
            "d_3 = 14.000\n",
            "d_4 = 3.000\n",
            "d_5 = 4.000\n",
            "d_6 = 5.000\n",
            "d_7 = 11.000\n",
            "d_8 = 8.000\n",
            "d_9 = 10.000\n",
            "d_10 = 9.000\n",
            "d_11 = 7.000\n",
            "d_12 = 6.000\n",
            "d_13 = 13.000\n",
            "d_14 = 12.000\n"
          ],
          "name": "stdout"
        }
      ]
    },
    {
      "cell_type": "markdown",
      "metadata": {
        "id": "aOSMFFCvrpck"
      },
      "source": [
        "Con lo anterior se observa la distancia euclidiana entre los puntos."
      ]
    },
    {
      "cell_type": "code",
      "metadata": {
        "colab": {
          "base_uri": "https://localhost:8080/",
          "height": 1000
        },
        "id": "qhMHsHAZYl9W",
        "outputId": "fb6c268d-0bdb-4776-c95b-846e1f38bcaf"
      },
      "source": [
        "#Imprimiento la solución óptima.\n",
        "\n",
        "plt.figure(figsize=(25,25))\n",
        "plt.xlabel(\"Distancia X\")\n",
        "plt.ylabel(\"Distancia Y\")\n",
        "plt.title(\"Ubicación de las ciudades\")\n",
        "\n",
        "\n",
        "arcos_activos = [i for i in arcos if x[i].solution_value > 0.9]\n",
        "for i,j in arcos_activos:\n",
        "    plt.plot([coord_x[i],coord_x[j]],[coord_y[i],coord_y[j]],\n",
        "              color='b', alpha=0.4, zorder=0)\n",
        "plt.scatter(x=coord_x, y=coord_y, color='blue', zorder=1)\n",
        "    \n",
        "for n in range(len(coord_x)):\n",
        "    plt.annotate(str(s[n]), xy=(coord_x[n],coord_y[n] ), \n",
        "                 xytext=(coord_x[n]-0.02,coord_y[n]-0.02), color='purple')\n",
        "    \n",
        "for n in range(len(coord_x)):\n",
        "    plt.annotate(str(name[n]), xy=(coord_x[n],coord_y[n] ), \n",
        "                 xytext=(coord_x[n]+0.02,coord_y[n]+0.01),color='red')\n",
        "    \n",
        "\n",
        "plt.show()"
      ],
      "execution_count": null,
      "outputs": [
        {
          "output_type": "display_data",
          "data": {
            "text/plain": [
              "<Figure size 1800x1800 with 1 Axes>"
            ],
            "image/png": "[encoded data removed]"
          },
          "metadata": {
            "tags": [],
            "needs_background": "light"
          }
        }
      ]
    },
    {
      "cell_type": "markdown",
      "metadata": {
        "id": "bOK9GgtXr_u8"
      },
      "source": [
        "Lo anterior muestra la ruta con menor distancia del algoritmo genético TSO"
      ]
    },
    {
      "cell_type": "markdown",
      "metadata": {
        "id": "d6j_cubwsuXO"
      },
      "source": [
        "Inicia en el siguieiente orden: Palmira, Pasto, Tulua, Pereira, Armenia, Caldas, Medellín, Barranquilla, Montería, Cartagena, Soledad, Valledupar, Cúcuta, Bucaramanga, Bogotá y Finaliza en Palmira."
      ]
    },
    {
      "cell_type": "markdown",
      "metadata": {
        "id": "7d7ePQ3ut3NF"
      },
      "source": [
        "El anterior modelo fue tomado a partir de:\n",
        "\n",
        "\n",
        "*   https://developers.google.com/optimization/routing/tsp\n",
        "\n",
        "\n"
      ]
    },
    {
      "cell_type": "markdown",
      "metadata": {
        "id": "fNuStQRPGv7R"
      },
      "source": [
        "______________________________________________________________________________"
      ]
    },
    {
      "cell_type": "markdown",
      "metadata": {
        "id": "sG5gKAJ3tfOs"
      },
      "source": [
        "Algoritmo Genético de google"
      ]
    },
    {
      "cell_type": "code",
      "metadata": {
        "colab": {
          "base_uri": "https://localhost:8080/"
        },
        "id": "SEHTpwQxHZBZ",
        "outputId": "47d9b4b7-d931-4e15-f2ff-7f1e65aedbe4"
      },
      "source": [
        "pip install ortools"
      ],
      "execution_count": null,
      "outputs": [
        {
          "output_type": "stream",
          "text": [
            "Requirement already satisfied: ortools in c:\\users\\raveseguros\\appdata\\local\\programs\\python\\python39\\lib\\site-packages (9.0.9048)\n",
            "Requirement already satisfied: protobuf>=3.15.8 in c:\\users\\raveseguros\\appdata\\local\\programs\\python\\python39\\lib\\site-packages (from ortools) (3.17.3)\n",
            "Requirement already satisfied: absl-py>=0.11 in c:\\users\\raveseguros\\appdata\\local\\programs\\python\\python39\\lib\\site-packages (from ortools) (0.13.0)\n",
            "Requirement already satisfied: six in c:\\users\\raveseguros\\appdata\\roaming\\python\\python39\\site-packages (from absl-py>=0.11->ortools) (1.15.0)\n",
            "Note: you may need to restart the kernel to use updated packages.\n"
          ],
          "name": "stdout"
        },
        {
          "output_type": "stream",
          "text": [
            "WARNING: You are using pip version 21.0.1; however, version 21.1.3 is available.\n",
            "You should consider upgrading via the 'C:\\Users\\RaveSeguros\\AppData\\Local\\Programs\\Python\\Python39\\python.exe -m pip install --upgrade pip' command.\n"
          ],
          "name": "stderr"
        }
      ]
    },
    {
      "cell_type": "markdown",
      "metadata": {
        "id": "kqaWWSbPuFsS"
      },
      "source": [
        "Se crea la matriz de distancias con la siguiente API:\n",
        "\n",
        "*   https://developers.google.com/optimization/routing/vrp#distance_matrix_api\n",
        "\n",
        "\n"
      ]
    },
    {
      "cell_type": "code",
      "metadata": {
        "id": "PVfJIyLH3T6t"
      },
      "source": [
        "distancematrix = [\n",
        "        [0, 401, 79, 438, 194, 165, 384, 1105, 997, 1238, 1279, 1242, 408, 749, 942],\n",
        "        [401, 0, 469, 829, 586, 556, 775, 1496, 1198, 1629, 1424, 1633, 799, 1140, 1333],\n",
        "        [79, 467, 0, 361, 117, 88, 307, 1028, 920, 1161, 1202, 1165, 331, 672, 865],\n",
        "        [448, 831, 370, 0, 321, 283, 434, 866, 789, 1000, 1040, 1004, 418, 398, 557],\n",
        "        [196, 584, 117, 312, 0, 45, 217, 913, 640, 1044, 866, 1049, 241, 557, 749],\n",
        "        [165, 554, 87.2, 273, 44.8, 0, 236, 940, 659, 1071, 885, 1077, 260, 584, 777],\n",
        "        [401, 790, 323, 431, 228, 282, 0, 769, 425, 714, 652, 727, 23,8, 413, 605],\n",
        "        [1103, 1492, 1025, 864, 911, 950, 768, 0, 433, 296, 362, 302, 747, 448, 539],\n",
        "        [806, 1194, 727, 793, 626, 670, 425, 436, 0, 341, 249, 354, 404, 617, 707],\n",
        "        [1094, 1483, 1016, 994, 1042, 1081, 714, 295, 339, 0, 128, 15.2, 693, 579, 669],\n",
        "        [1031, 1419, 952, 1037, 851, 895, 650, 361, 244, 128, 0, 119, 629, 622, 712],\n",
        "        [1240, 1495, 1161, 1000, 1048, 1086, 743, 301, 367, 15,2, 119, 0, 723, 585, 675],\n",
        "        [404, 793, 325, 415, 224, 268, 23.3, 748, 404, 693, 631, 706, 0, 392, 584],\n",
        "        [749, 1138, 671, 397, 558, 596, 414, 449, 614, 581, 624, 586, 393, 0, 197],\n",
        "        [939, 1328, 861, 555, 748, 786, 604, 539, 704, 671, 713, 676, 583, 195, 0],\n",
        "    ]  # yapf: disable"
      ],
      "execution_count": null,
      "outputs": []
    },
    {
      "cell_type": "markdown",
      "metadata": {
        "id": "TvUoc6ZXuUhN"
      },
      "source": [
        "Se definió un carro Mini Cooper y gasolina corriente. El precio del galón se definió en $8.525"
      ]
    },
    {
      "cell_type": "code",
      "metadata": {
        "id": "M81_I1WW3gIX"
      },
      "source": [
        "precioscomb = 10*8525"
      ],
      "execution_count": null,
      "outputs": []
    },
    {
      "cell_type": "markdown",
      "metadata": {
        "id": "PaaeLIEFuodk"
      },
      "source": [
        "precioscomb se define el costo del combustible por kilómetro que consumirá el vehículo"
      ]
    },
    {
      "cell_type": "markdown",
      "metadata": {
        "id": "lfAJabAUuzkK"
      },
      "source": [
        "Se crea una lista para crear una matriz de costo en cada recorrido"
      ]
    },
    {
      "cell_type": "code",
      "metadata": {
        "id": "YN5fku6snPcT"
      },
      "source": [
        "costaCom = []\n",
        "for i in distancematrix:\n",
        "    my_new_list = []\n",
        "    for j in i:\n",
        "        my_new_list.append(j * precioscomb)\n",
        "    costaCom.append(my_new_list)"
      ],
      "execution_count": null,
      "outputs": []
    },
    {
      "cell_type": "markdown",
      "metadata": {
        "id": "OC0hNeVwvCMs"
      },
      "source": [
        "La matriz de peajes, que se define como el número de peajes que existen entre cada reccorido es la siguiente:"
      ]
    },
    {
      "cell_type": "code",
      "metadata": {
        "id": "7BUEfuLYnPcT"
      },
      "source": [
        "peajesmatrix = [\n",
        "        [0, 4, 3, 10, 5, 5, 7, 14, 16, 0, 19, 18, 9, 12, 14],\n",
        "        [4, 0, 4, 13, 8, 8, 10, 17, 19, 21, 21, 21, 12, 15, 17],\n",
        "        [3, 4, 0, 10, 5, 5, 7, 14, 16, 18, 19, 18, 9, 12, 14],\n",
        "        [10, 13, 10, 0, 6, 5, 4, 9, 11, 13, 12, 13, 6, 6, 5],\n",
        "        [5, 8, 5, 6, 0, 1, 2, 9, 11, 13, 14, 13, 4, 7, 9],\n",
        "        [5, 8, 5, 5, 1, 0, 3, 9, 12, 13, 15, 13, 5, 7, 9],\n",
        "        [7, 10, 7, 4, 2, 3, 0, 7, 10, 11, 13, 11, 3, 5, 7],\n",
        "        [14, 17, 14, 9, 9, 9, 7, 0, 10, 5, 4, 5, 9, 5, 3],\n",
        "        [16, 19, 16, 11, 11, 12, 10, 10, 0, 6, 5, 6, 8, 10, 8],\n",
        "        [0, 21, 18, 13, 13, 13, 11, 5, 6, 0, 3, 0, 12, 9, 7],\n",
        "        [19, 21, 19, 12, 14, 15, 13, 4, 5, 3, 0, 3, 10, 8, 6],\n",
        "        [18, 21, 18, 13, 13, 13, 11, 5, 6, 0, 3, 0, 12, 9, 7],\n",
        "        [9, 12, 9, 6, 4, 5, 3, 9, 8, 12, 10, 12, 0, 7, 9],\n",
        "        [12, 15, 12, 6, 7, 7, 5, 5, 10, 9, 8, 9, 7, 0, 2],\n",
        "        [14, 17, 114, 5, 9, 9, 7, 3, 8, 7, 6, 7, 9, 2, 0],\n",
        "    ] "
      ],
      "execution_count": null,
      "outputs": []
    },
    {
      "cell_type": "markdown",
      "metadata": {
        "id": "T2-N12amvRGg"
      },
      "source": [
        "Se definió cada costo de peaje en $11.000 que sale como el promedio de precios que hay normalmente en el país."
      ]
    },
    {
      "cell_type": "code",
      "metadata": {
        "id": "CWlYk_IznPcT"
      },
      "source": [
        "preciospeaj = 11000"
      ],
      "execution_count": null,
      "outputs": []
    },
    {
      "cell_type": "markdown",
      "metadata": {
        "id": "srCcru4kvbhI"
      },
      "source": [
        "Se multiplica cada uno de los pejaes por el costo que tiene cada uno, esto se almacena en una nueva matriz"
      ]
    },
    {
      "cell_type": "code",
      "metadata": {
        "id": "PpaYK1QOnPcT"
      },
      "source": [
        "costaPea = []\n",
        "for i in peajesmatrix:\n",
        "    my_new_list = []\n",
        "    for j in i:\n",
        "        my_new_list.append(j * precioscomb)\n",
        "    costaPea.append(my_new_list)"
      ],
      "execution_count": null,
      "outputs": []
    },
    {
      "cell_type": "markdown",
      "metadata": {
        "id": "FitMnBJcvmdH"
      },
      "source": [
        "Se suman dos matrices: Costo del trayecto por combustible y el costo de peajes"
      ]
    },
    {
      "cell_type": "code",
      "metadata": {
        "id": "X3czgVLFnPcT"
      },
      "source": [
        "distanceMatrixCosto = []\n",
        "for i in range(0, len(costaPea)):\n",
        "    lists = []\n",
        "    for j in range(0, len(costaPea[i])):\n",
        "        lists.append(costaPea[i][j] + costaCom[i][j])\n",
        "    distanceMatrixCosto.append(lists)"
      ],
      "execution_count": null,
      "outputs": []
    },
    {
      "cell_type": "markdown",
      "metadata": {
        "id": "rKth8gg_vtbL"
      },
      "source": [
        "Se aplica el algoritmo genético para resolver el problema. Se envía la matriz de costos y se optimiza"
      ]
    },
    {
      "cell_type": "code",
      "metadata": {
        "id": "SLyPNzpeYl9Y",
        "outputId": "5f33f562-e09f-48c3-a1fe-ad4093c1b0f5"
      },
      "source": [
        "\"\"\"Simple travelling salesman problem between cities.\"\"\"\n",
        "\n",
        "from ortools.constraint_solver import routing_enums_pb2\n",
        "from ortools.constraint_solver import pywrapcp\n",
        "\n",
        "\n",
        "def create_data_model():\n",
        "    \"\"\"Stores the data for the problem.\"\"\"\n",
        "    data = {}\n",
        "    \n",
        "\n",
        "    data['distance_matrix'] = distanceMatrixCosto\n",
        "    data['num_vehicles'] = 1\n",
        "    data['depot'] = 0\n",
        "    return data\n",
        "\n",
        "\n",
        "def print_solution(manager, routing, solution):\n",
        "    \"\"\"Prints solution on console.\"\"\"\n",
        "    print('Objective: COP {} '.format(solution.ObjectiveValue()))\n",
        "    index = routing.Start(0)\n",
        "    plan_output = 'Route for vehicle 0:\\n'\n",
        "    route_distance = 0\n",
        "    while not routing.IsEnd(index):\n",
        "        plan_output += ' {} ->'.format(name[manager.IndexToNode(index)])\n",
        "        previous_index = index\n",
        "        index = solution.Value(routing.NextVar(index))\n",
        "        route_distance += routing.GetArcCostForVehicle(previous_index, index, 0)\n",
        "    plan_output += ' {}\\n'.format(name[manager.IndexToNode(index)])\n",
        "    print(plan_output)\n",
        "    plan_output += 'Route distance: {}COP\\n'.format(route_distance)\n",
        "\n",
        "\n",
        "def main():\n",
        "    \"\"\"Entry point of the program.\"\"\"\n",
        "    # Instantiate the data problem.\n",
        "    data = create_data_model()\n",
        "\n",
        "    # Create the routing index manager.\n",
        "    manager = pywrapcp.RoutingIndexManager(len(data['distance_matrix']),\n",
        "                                           data['num_vehicles'], data['depot'])\n",
        "\n",
        "    # Create Routing Model.\n",
        "    routing = pywrapcp.RoutingModel(manager)\n",
        "\n",
        "\n",
        "    def distance_callback(from_index, to_index):\n",
        "        \"\"\"Returns the distance between the two nodes.\"\"\"\n",
        "        # Convert from routing variable Index to distance matrix NodeIndex.\n",
        "        from_node = manager.IndexToNode(from_index)\n",
        "        to_node = manager.IndexToNode(to_index)\n",
        "        return data['distance_matrix'][from_node][to_node]\n",
        "\n",
        "    transit_callback_index = routing.RegisterTransitCallback(distance_callback)\n",
        "\n",
        "    # Define cost of each arc.\n",
        "    routing.SetArcCostEvaluatorOfAllVehicles(transit_callback_index)\n",
        "\n",
        "    # Setting first solution heuristic.\n",
        "    search_parameters = pywrapcp.DefaultRoutingSearchParameters()\n",
        "    search_parameters.first_solution_strategy = (\n",
        "        routing_enums_pb2.FirstSolutionStrategy.PATH_CHEAPEST_ARC)\n",
        "\n",
        "    # Solve the problem.\n",
        "    solution = routing.SolveWithParameters(search_parameters)\n",
        "\n",
        "    # Print solution on console.\n",
        "    if solution:\n",
        "        print_solution(manager, routing, solution)\n",
        "\n",
        "\n",
        "if __name__ == '__main__':\n",
        "    main()"
      ],
      "execution_count": null,
      "outputs": [
        {
          "output_type": "stream",
          "text": [
            "Objective: COP 326865550 \n",
            "Route for vehicle 0:\n",
            " Palmira -> Pasto -> Tuluá -> Pereira -> Caldas -> Bucaramanga -> Cúcuta -> Valledupar -> Soledad -> Barranquilla -> Cartagena -> Montería -> Medellín -> Bogota -> Armenia -> Palmira\n",
            "\n"
          ],
          "name": "stdout"
        }
      ]
    },
    {
      "cell_type": "markdown",
      "metadata": {
        "id": "QGem1XyYv-w1"
      },
      "source": [
        "El resultado muestra un costo de $326 millones para hacer todo el recorrido en el mini cooper. El orden de las ciudades no varía mucho frente al primer modelo. Cabe aclarar que este modelo es más exacto al tener en cuenta las carreteras encontradas por la API."
      ]
    },
    {
      "cell_type": "markdown",
      "metadata": {
        "id": "mXzgO3L1wugc"
      },
      "source": [
        "**Colonia de Hormigas**"
      ]
    },
    {
      "cell_type": "markdown",
      "metadata": {
        "id": "Twcv2VnZw7Hb"
      },
      "source": [
        "La matriz que tenemos, su diagonal principal de ceros se pasan a infinito para poder hacer el modelo. Esto para que la hormiga no se quede en el mismo punto."
      ]
    },
    {
      "cell_type": "code",
      "metadata": {
        "id": "xL1u7FLdnPcU"
      },
      "source": [
        "distanceMatrixCostoCero = []\n",
        "for i in distanceMatrixCosto:\n",
        "    my_new_list = []\n",
        "    for j in i:\n",
        "        if j == 0:\n",
        "            j = np.inf\n",
        "        my_new_list.append(j)\n",
        "    distanceMatrixCostoCero.append(my_new_list)"
      ],
      "execution_count": null,
      "outputs": []
    },
    {
      "cell_type": "markdown",
      "metadata": {
        "id": "56NCUXNNxIcH"
      },
      "source": [
        "Se clona el repositorio"
      ]
    },
    {
      "cell_type": "code",
      "metadata": {
        "id": "B6oMAhxYBX9l",
        "outputId": "47506aa9-4746-4ac4-957b-b3e1861bd0c2"
      },
      "source": [
        "!git clone https://github.com/juan-carvajal/TSP_Data.git"
      ],
      "execution_count": null,
      "outputs": [
        {
          "output_type": "stream",
          "text": [
            "fatal: destination path 'TSP_Data' already exists and is not an empty directory.\n"
          ],
          "name": "stderr"
        }
      ]
    },
    {
      "cell_type": "markdown",
      "metadata": {
        "id": "Bbdx4B1IxLaD"
      },
      "source": [
        "Se aplica el modelo de colonia de hormigas para la matriz de costo y vemos cómo se estabiliza:"
      ]
    },
    {
      "cell_type": "code",
      "metadata": {
        "id": "0iXAg7uRBggH",
        "outputId": "59e9ae91-438c-40a2-e5bc-22a220536749"
      },
      "source": [
        "import random as rn\n",
        "import numpy as np\n",
        "from numpy.random import choice as np_choice\n",
        "from math import sqrt\n",
        "import matplotlib.pyplot as plt\n",
        "import json\n",
        "\n",
        "\n",
        "class AntColony(object):\n",
        "\n",
        "    def __init__(self, distances, n_ants, n_best, n_iterations, decay, alpha=1, beta=1):\n",
        "        \"\"\"\n",
        "        Args:\n",
        "            distances (2D numpy.array): Square matrix of distances. Diagonal is assumed to be np.inf.\n",
        "            n_ants (int): Number of ants running per iteration\n",
        "            n_best (int): Number of best ants who deposit pheromone\n",
        "            n_iteration (int): Number of iterations\n",
        "            decay (float): Rate it which pheromone decays. The pheromone value is multiplied by decay, so 0.95 will lead to decay, 0.5 to much faster decay.\n",
        "            alpha (int or float): exponenet on pheromone, higher alpha gives pheromone more weight. Default=1\n",
        "            beta (int or float): exponent on distance, higher beta give distance more weight. Default=1\n",
        "        Example:\n",
        "            ant_colony = AntColony(distances, 100, 20, 2000, 0.95, alpha=1, beta=2)          \n",
        "        \"\"\"\n",
        "        self.distances  = distances\n",
        "        self.pheromone = np.ones(self.distances.shape) / len(distances)\n",
        "        self.all_inds = range(len(distances))\n",
        "        self.n_ants = n_ants\n",
        "        self.n_best = n_best\n",
        "        self.n_iterations = n_iterations\n",
        "        self.decay = decay\n",
        "        self.alpha = alpha\n",
        "        self.beta = beta\n",
        "\n",
        "    def run(self):\n",
        "        distance_logs=[]\n",
        "        shortest_path = None\n",
        "        all_time_shortest_path = (\"placeholder\", np.inf)\n",
        "        for i in range(self.n_iterations):\n",
        "            all_paths = self.gen_all_paths()\n",
        "            self.spread_pheronome(all_paths, self.n_best, shortest_path=shortest_path)\n",
        "            shortest_path = min(all_paths, key=lambda x: x[1])\n",
        "            if shortest_path[1] < all_time_shortest_path[1]:\n",
        "                all_time_shortest_path = shortest_path\n",
        "            distance_logs.append(all_time_shortest_path[1])                      \n",
        "        return all_time_shortest_path,distance_logs\n",
        "\n",
        "    def spread_pheronome(self, all_paths, n_best, shortest_path):\n",
        "        sorted_paths = sorted(all_paths, key=lambda x: x[1])\n",
        "        for path, dist in sorted_paths[:n_best]:\n",
        "            for move in path:\n",
        "                self.pheromone[move] += 1.0 / self.distances[move]\n",
        "\n",
        "    def gen_path_dist(self, path):\n",
        "        total_dist = 0\n",
        "        for ele in path:\n",
        "            total_dist += self.distances[ele]\n",
        "        return total_dist\n",
        "\n",
        "    def gen_all_paths(self):\n",
        "        all_paths = []\n",
        "        for i in range(self.n_ants):\n",
        "            path = self.gen_path(0)\n",
        "            all_paths.append((path, self.gen_path_dist(path)))\n",
        "        return all_paths\n",
        "\n",
        "    def gen_path(self, start):\n",
        "        path = []\n",
        "        visited = set()\n",
        "        visited.add(start)\n",
        "        prev = start\n",
        "        for i in range(len(self.distances) - 1):\n",
        "            move = self.pick_move(self.pheromone[prev], self.distances[prev], visited)\n",
        "            path.append((prev, move))\n",
        "            prev = move\n",
        "            visited.add(move)\n",
        "        path.append((prev, start)) # going back to where we started    \n",
        "        return path\n",
        "\n",
        "    def pick_move(self, pheromone, dist, visited):\n",
        "        pheromone = np.copy(pheromone)\n",
        "        pheromone[list(visited)] = 0\n",
        "\n",
        "        row = (pheromone ** self.alpha) * (( 1.0 / dist) ** self.beta)\n",
        "\n",
        "        norm_row = row / row.sum()\n",
        "        move = np_choice(self.all_inds, 1, p=norm_row)[0]\n",
        "        return move\n",
        "\n",
        "\n",
        "#Static TSP Instance\n",
        "# distances = np.array([[np.inf, 2, 2, 5, 7],\n",
        "#                       [2, np.inf, 4, 8, 2],\n",
        "#                       [2, 4, np.inf, 1, 3],\n",
        "#                       [5, 8, 1, np.inf, 2],\n",
        "#                       [7, 2, 3, 2, np.inf]])\n",
        "\n",
        "\n",
        "#Dinamic TSP Instance, changing the value of n_nodes will change the\n",
        "#Instance size\n",
        "# n_nodes=100\n",
        "# dist=lambda x,y: sqrt(((x[0]-y[0])**2)+((x[1]-y[1])**2))\n",
        "# l=[(rn.random()*1000,rn.random()*1000) for i in range(n_nodes)]\n",
        "# distances=np.array([[np.inf if i==j else dist(l[i],l[j]) for i in range(len(l))] for j in range(len(l))])\n",
        "\n",
        "\n",
        "#Presolved TSP Instance\n",
        "with open(\"TSP_Data/gr120.json\", \"r\") as tsp_data:\n",
        "    tsp = json.load(tsp_data)\n",
        "\n",
        "distances = np.array(distanceMatrixCostoCero)\n",
        "tour_size=tsp[\"TourSize\"]\n",
        "for i in range(len(distanceMatrixCostoCero)):\n",
        "  distances[i][i]=np.inf\n",
        "distances=np.array(distances)\n",
        "\n",
        "\n",
        "\n",
        "\n",
        "ant_colony = AntColony(distances, 50, 50, 150, 0.7, alpha=1, beta=1)\n",
        "shortest_path,log = ant_colony.run()\n",
        "print (\"shortest_path: {}\".format(shortest_path))\n",
        "plt.plot(log)\n",
        "plt.show()"
      ],
      "execution_count": null,
      "outputs": [
        {
          "output_type": "stream",
          "text": [
            "shortest_path: ([(0, 2), (2, 5), (5, 8), (8, 10), (10, 7), (7, 9), (9, 11), (11, 12), (12, 6), (6, 13), (13, 14), (14, 3), (3, 4), (4, 1), (1, 0)], 333796375.0)\n"
          ],
          "name": "stdout"
        },
        {
          "output_type": "display_data",
          "data": {
            "text/plain": [
              "<Figure size 432x288 with 1 Axes>"
            ],
            "image/png": "[encoded data removed]"
          },
          "metadata": {
            "tags": [],
            "needs_background": "light"
          }
        }
      ]
    },
    {
      "cell_type": "markdown",
      "metadata": {
        "id": "-d3fnA_ZxYtb"
      },
      "source": [
        "El resultado es similar al algoritmo generado por la APi. El costo total del recorrido es de $333.796.375 "
      ]
    },
    {
      "cell_type": "markdown",
      "metadata": {
        "id": "rLcStS1Cx8v1"
      },
      "source": [
        "**Conclusiones**"
      ]
    },
    {
      "cell_type": "markdown",
      "metadata": {
        "id": "4abBoRamyAF1"
      },
      "source": [
        "\n",
        "\n",
        "*   El costo total por tierra para visitar las ciudades es muy elevado frente a otras alternativas de viaje, como por ejemplo el avión o transporte público. \n",
        "*   Para disminuir el costo de combustible se propone utilizar un vehículo con menor consumo de combustible como el chevrolet spark\n",
        "*   El mejor algoritmo entre los evaluados fue el algoritmo genético, ya que su costo computacional es el menor.\n",
        "* Las API de google maps ahorran mucho trabajo para hacer las tablas de distancia, en temas geoespaciales.\n",
        "* El modelo TSP funcionó adecuadamente para calcular las distancias, pero al incluir las variavles del costo de gasolina y pejaes, el modelo no converge\n",
        "\n",
        "\n",
        "\n",
        "\n"
      ]
    },
    {
      "cell_type": "markdown",
      "metadata": {
        "id": "QxHzy8OXzeNl"
      },
      "source": [
        "**Referencias**"
      ]
    },
    {
      "cell_type": "markdown",
      "metadata": {
        "id": "W3zXYjwCzgue"
      },
      "source": [
        "\n",
        "\n",
        "*   https://developers.google.com/optimization/routing/tsp\n",
        "*   https://developers.google.com/optimization/routing/vrp#distance_matrix_api\n",
        "*   https://en.wikipedia.org/wiki/Travelling_salesman_problem\n",
        "\n",
        "\n",
        "\n"
      ]
    }
  ]
}